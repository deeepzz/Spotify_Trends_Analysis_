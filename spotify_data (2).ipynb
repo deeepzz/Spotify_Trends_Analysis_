{
 "cells": [
  {
   "cell_type": "code",
   "execution_count": 43,
   "metadata": {},
   "outputs": [],
   "source": [
    "# 1. Import Pandas,Numpy,Seaborn,Matplotlib"
   ]
  },
  {
   "cell_type": "code",
   "execution_count": 44,
   "metadata": {},
   "outputs": [],
   "source": [
    "import numpy as np\n",
    "import pandas as pd\n",
    "import matplotlib.pyplot as plt\n",
    "import seaborn as sns\n",
    "import sqlite3\n",
    "\n",
    "import time\n",
    "\n",
    "# Étape 1 : Temps avant optimisation\n",
    "start = time.time()\n"
   ]
  },
  {
   "cell_type": "code",
   "execution_count": 45,
   "metadata": {},
   "outputs": [
    {
     "data": {
      "text/html": [
       "<div>\n",
       "<style scoped>\n",
       "    .dataframe tbody tr th:only-of-type {\n",
       "        vertical-align: middle;\n",
       "    }\n",
       "\n",
       "    .dataframe tbody tr th {\n",
       "        vertical-align: top;\n",
       "    }\n",
       "\n",
       "    .dataframe thead th {\n",
       "        text-align: right;\n",
       "    }\n",
       "</style>\n",
       "<table border=\"1\" class=\"dataframe\">\n",
       "  <thead>\n",
       "    <tr style=\"text-align: right;\">\n",
       "      <th></th>\n",
       "      <th>track_name</th>\n",
       "      <th>artist</th>\n",
       "      <th>album</th>\n",
       "      <th>release_date</th>\n",
       "      <th>popularity</th>\n",
       "      <th>artist_genre</th>\n",
       "    </tr>\n",
       "  </thead>\n",
       "  <tbody>\n",
       "    <tr>\n",
       "      <th>0</th>\n",
       "      <td>See You Again (feat. Kali Uchis)</td>\n",
       "      <td>Tyler, The Creator</td>\n",
       "      <td>Flower Boy</td>\n",
       "      <td>2017-07-21</td>\n",
       "      <td>92</td>\n",
       "      <td>NaN</td>\n",
       "    </tr>\n",
       "    <tr>\n",
       "      <th>1</th>\n",
       "      <td>Dark Red</td>\n",
       "      <td>Steve Lacy</td>\n",
       "      <td>Dark Red</td>\n",
       "      <td>2017-02-20</td>\n",
       "      <td>86</td>\n",
       "      <td>NaN</td>\n",
       "    </tr>\n",
       "    <tr>\n",
       "      <th>2</th>\n",
       "      <td>Pink + White</td>\n",
       "      <td>Frank Ocean</td>\n",
       "      <td>Blonde</td>\n",
       "      <td>2016-08-20</td>\n",
       "      <td>89</td>\n",
       "      <td>NaN</td>\n",
       "    </tr>\n",
       "    <tr>\n",
       "      <th>3</th>\n",
       "      <td>Lovers Rock</td>\n",
       "      <td>TV Girl</td>\n",
       "      <td>French Exit</td>\n",
       "      <td>2014-06-05</td>\n",
       "      <td>88</td>\n",
       "      <td>NaN</td>\n",
       "    </tr>\n",
       "    <tr>\n",
       "      <th>4</th>\n",
       "      <td>Something About You</td>\n",
       "      <td>Eyedress</td>\n",
       "      <td>Mulholland Drive</td>\n",
       "      <td>2021-08-27</td>\n",
       "      <td>84</td>\n",
       "      <td>NaN</td>\n",
       "    </tr>\n",
       "    <tr>\n",
       "      <th>...</th>\n",
       "      <td>...</td>\n",
       "      <td>...</td>\n",
       "      <td>...</td>\n",
       "      <td>...</td>\n",
       "      <td>...</td>\n",
       "      <td>...</td>\n",
       "    </tr>\n",
       "    <tr>\n",
       "      <th>305</th>\n",
       "      <td>2516</td>\n",
       "      <td>Luna Li</td>\n",
       "      <td>jams EP</td>\n",
       "      <td>2021-02-05</td>\n",
       "      <td>54</td>\n",
       "      <td>NaN</td>\n",
       "    </tr>\n",
       "    <tr>\n",
       "      <th>306</th>\n",
       "      <td>Bamboléo</td>\n",
       "      <td>Gipsy Kings</td>\n",
       "      <td>Gipsy Kings</td>\n",
       "      <td>1987-08-24</td>\n",
       "      <td>71</td>\n",
       "      <td>flamenco</td>\n",
       "    </tr>\n",
       "    <tr>\n",
       "      <th>307</th>\n",
       "      <td>Ojos Tristes (with The Marías)</td>\n",
       "      <td>Selena Gomez</td>\n",
       "      <td>I Said I Love You First</td>\n",
       "      <td>2025-03-21</td>\n",
       "      <td>82</td>\n",
       "      <td>pop</td>\n",
       "    </tr>\n",
       "    <tr>\n",
       "      <th>308</th>\n",
       "      <td>Tú Con Él</td>\n",
       "      <td>Frankie Ruiz</td>\n",
       "      <td>El Papá De La Salsa</td>\n",
       "      <td>2008-09-09</td>\n",
       "      <td>64</td>\n",
       "      <td>salsa, salsa romantica, merengue</td>\n",
       "    </tr>\n",
       "    <tr>\n",
       "      <th>309</th>\n",
       "      <td>Nothing</td>\n",
       "      <td>Bruno Major</td>\n",
       "      <td>To Let A Good Thing Die</td>\n",
       "      <td>2020-06-05</td>\n",
       "      <td>75</td>\n",
       "      <td>NaN</td>\n",
       "    </tr>\n",
       "  </tbody>\n",
       "</table>\n",
       "<p>310 rows × 6 columns</p>\n",
       "</div>"
      ],
      "text/plain": [
       "                           track_name              artist  \\\n",
       "0    See You Again (feat. Kali Uchis)  Tyler, The Creator   \n",
       "1                            Dark Red          Steve Lacy   \n",
       "2                        Pink + White         Frank Ocean   \n",
       "3                         Lovers Rock             TV Girl   \n",
       "4                 Something About You            Eyedress   \n",
       "..                                ...                 ...   \n",
       "305                              2516             Luna Li   \n",
       "306                          Bamboléo         Gipsy Kings   \n",
       "307    Ojos Tristes (with The Marías)        Selena Gomez   \n",
       "308                         Tú Con Él        Frankie Ruiz   \n",
       "309                           Nothing         Bruno Major   \n",
       "\n",
       "                       album release_date  popularity  \\\n",
       "0                 Flower Boy   2017-07-21          92   \n",
       "1                   Dark Red   2017-02-20          86   \n",
       "2                     Blonde   2016-08-20          89   \n",
       "3                French Exit   2014-06-05          88   \n",
       "4           Mulholland Drive   2021-08-27          84   \n",
       "..                       ...          ...         ...   \n",
       "305                  jams EP   2021-02-05          54   \n",
       "306              Gipsy Kings   1987-08-24          71   \n",
       "307  I Said I Love You First   2025-03-21          82   \n",
       "308      El Papá De La Salsa   2008-09-09          64   \n",
       "309  To Let A Good Thing Die   2020-06-05          75   \n",
       "\n",
       "                         artist_genre  \n",
       "0                                 NaN  \n",
       "1                                 NaN  \n",
       "2                                 NaN  \n",
       "3                                 NaN  \n",
       "4                                 NaN  \n",
       "..                                ...  \n",
       "305                               NaN  \n",
       "306                          flamenco  \n",
       "307                               pop  \n",
       "308  salsa, salsa romantica, merengue  \n",
       "309                               NaN  \n",
       "\n",
       "[310 rows x 6 columns]"
      ]
     },
     "execution_count": 45,
     "metadata": {},
     "output_type": "execute_result"
    }
   ],
   "source": [
    "df = pd.read_csv('/workspaces/simple-/track_info.csv')\n",
    "df"
   ]
  },
  {
   "cell_type": "code",
   "execution_count": 46,
   "metadata": {},
   "outputs": [
    {
     "name": "stdout",
     "output_type": "stream",
     "text": [
      "Shape of the dataset: (310, 6)\n"
     ]
    }
   ],
   "source": [
    "print(\"Shape of the dataset:\",df.shape)"
   ]
  },
  {
   "cell_type": "code",
   "execution_count": 47,
   "metadata": {},
   "outputs": [],
   "source": [
    "# 5. Missing values"
   ]
  },
  {
   "cell_type": "code",
   "execution_count": 48,
   "metadata": {},
   "outputs": [
    {
     "data": {
      "text/plain": [
       "track_name        0\n",
       "artist            0\n",
       "album             0\n",
       "release_date      0\n",
       "popularity        0\n",
       "artist_genre    187\n",
       "dtype: int64"
      ]
     },
     "execution_count": 48,
     "metadata": {},
     "output_type": "execute_result"
    }
   ],
   "source": [
    "df.isnull().sum()"
   ]
  },
  {
   "cell_type": "code",
   "execution_count": 49,
   "metadata": {},
   "outputs": [],
   "source": [
    "# 4. Column details"
   ]
  },
  {
   "cell_type": "code",
   "execution_count": 50,
   "metadata": {},
   "outputs": [
    {
     "name": "stdout",
     "output_type": "stream",
     "text": [
      "<class 'pandas.core.frame.DataFrame'>\n",
      "RangeIndex: 310 entries, 0 to 309\n",
      "Data columns (total 6 columns):\n",
      " #   Column        Non-Null Count  Dtype \n",
      "---  ------        --------------  ----- \n",
      " 0   track_name    310 non-null    object\n",
      " 1   artist        310 non-null    object\n",
      " 2   album         310 non-null    object\n",
      " 3   release_date  310 non-null    object\n",
      " 4   popularity    310 non-null    int64 \n",
      " 5   artist_genre  123 non-null    object\n",
      "dtypes: int64(1), object(5)\n",
      "memory usage: 14.7+ KB\n"
     ]
    }
   ],
   "source": [
    "df.info()"
   ]
  },
  {
   "cell_type": "code",
   "execution_count": 51,
   "metadata": {},
   "outputs": [],
   "source": [
    "# 5. Statistics of the data"
   ]
  },
  {
   "cell_type": "code",
   "execution_count": 52,
   "metadata": {},
   "outputs": [
    {
     "data": {
      "text/html": [
       "<div>\n",
       "<style scoped>\n",
       "    .dataframe tbody tr th:only-of-type {\n",
       "        vertical-align: middle;\n",
       "    }\n",
       "\n",
       "    .dataframe tbody tr th {\n",
       "        vertical-align: top;\n",
       "    }\n",
       "\n",
       "    .dataframe thead th {\n",
       "        text-align: right;\n",
       "    }\n",
       "</style>\n",
       "<table border=\"1\" class=\"dataframe\">\n",
       "  <thead>\n",
       "    <tr style=\"text-align: right;\">\n",
       "      <th></th>\n",
       "      <th>count</th>\n",
       "      <th>mean</th>\n",
       "      <th>std</th>\n",
       "      <th>min</th>\n",
       "      <th>25%</th>\n",
       "      <th>50%</th>\n",
       "      <th>75%</th>\n",
       "      <th>max</th>\n",
       "    </tr>\n",
       "  </thead>\n",
       "  <tbody>\n",
       "    <tr>\n",
       "      <th>popularity</th>\n",
       "      <td>310.0</td>\n",
       "      <td>66.648387</td>\n",
       "      <td>20.810804</td>\n",
       "      <td>0.0</td>\n",
       "      <td>58.0</td>\n",
       "      <td>72.0</td>\n",
       "      <td>81.75</td>\n",
       "      <td>100.0</td>\n",
       "    </tr>\n",
       "  </tbody>\n",
       "</table>\n",
       "</div>"
      ],
      "text/plain": [
       "            count       mean        std  min   25%   50%    75%    max\n",
       "popularity  310.0  66.648387  20.810804  0.0  58.0  72.0  81.75  100.0"
      ]
     },
     "execution_count": 52,
     "metadata": {},
     "output_type": "execute_result"
    }
   ],
   "source": [
    "df.describe().transpose()"
   ]
  },
  {
   "cell_type": "code",
   "execution_count": 53,
   "metadata": {},
   "outputs": [],
   "source": [
    "import sqlite3\n",
    "import pandas as pd\n",
    "\n",
    "# Connexion à la base de données SQLite\n",
    "conn = sqlite3.connect(\"spotify.db\")"
   ]
  },
  {
   "cell_type": "code",
   "execution_count": 54,
   "metadata": {},
   "outputs": [],
   "source": [
    "import sqlite3\n",
    "import pandas as pd\n",
    "\n",
    "# 1. Charger le fichier CSV\n",
    "df_csv = pd.read_csv('/workspaces/simple-/track_info.csv')\n"
   ]
  },
  {
   "cell_type": "code",
   "execution_count": 55,
   "metadata": {},
   "outputs": [
    {
     "name": "stdout",
     "output_type": "stream",
     "text": [
      "Temps avant optimisation : 0.0028 s\n",
      "Temps après optimisation : 0.0011 s\n",
      "Amélioration : 60.02%\n"
     ]
    }
   ],
   "source": [
    "import time\n",
    "\n",
    "start = time.time()\n",
    "\n",
    "df_all = pd.read_sql_query(\"SELECT * FROM spotify\", conn)\n",
    "\n",
    "end = time.time()\n",
    "temps_avant = end - start\n",
    "print(f\"Temps avant optimisation : {temps_avant:.4f} s\")\n",
    "\n",
    "# Code optimisé (lecture ciblée + agrégation)\n",
    "start = time.time()\n",
    "df_grouped = pd.read_sql_query(\"\"\"\n",
    "    SELECT artist, COUNT(track_name) as total_tracks\n",
    "    FROM spotify\n",
    "    GROUP BY artist\n",
    "\"\"\", conn)\n",
    "end = time.time()\n",
    "temps_apres = end - start\n",
    "print(f\"Temps après optimisation : {temps_apres:.4f} s\")\n",
    "\n",
    "# Pourcentage d'amélioration\n",
    "if temps_avant > 0:\n",
    "    gain = ((temps_avant - temps_apres) / temps_avant) * 100\n",
    "    print(f\"Amélioration : {gain:.2f}%\")\n"
   ]
  },
  {
   "cell_type": "code",
   "execution_count": 56,
   "metadata": {},
   "outputs": [
    {
     "name": "stdout",
     "output_type": "stream",
     "text": [
      "            artist  total_tracks\n",
      "0        A$AP Ferg             1\n",
      "1       AP Dhillon             1\n",
      "2             ATFC             1\n",
      "3      Addison Rae             1\n",
      "4              Air             1\n",
      "..             ...           ...\n",
      "228         juju<3             1\n",
      "229         slchld             1\n",
      "230    thenightsky             1\n",
      "231  wave to earth             4\n",
      "232       yung kai             1\n",
      "\n",
      "[233 rows x 2 columns]\n"
     ]
    }
   ],
   "source": [
    "df_grouped = pd.read_sql_query(\"\"\"\n",
    "    SELECT artist, COUNT(track_name) as total_tracks\n",
    "    FROM spotify\n",
    "    GROUP BY artist\n",
    "\"\"\", conn)\n",
    "print(df_grouped)"
   ]
  },
  {
   "cell_type": "code",
   "execution_count": 57,
   "metadata": {},
   "outputs": [],
   "source": [
    "conn = sqlite3.connect(\"spotify.db\")\n",
    "cursor = conn.cursor()\n"
   ]
  },
  {
   "cell_type": "code",
   "execution_count": 58,
   "metadata": {},
   "outputs": [],
   "source": [
    "with open(\"/workspaces/simple-/data.sql\", \"r\") as f:\n",
    "    sql_script = f.read()\n",
    "\n",
    "cursor.executescript(sql_script)\n",
    "conn.commit()\n"
   ]
  },
  {
   "cell_type": "code",
   "execution_count": 59,
   "metadata": {},
   "outputs": [
    {
     "name": "stdout",
     "output_type": "stream",
     "text": [
      "   total_lignes\n",
      "0           310\n"
     ]
    }
   ],
   "source": [
    "df_csv.to_sql(\"spotify\", conn, if_exists=\"replace\", index=False)\n",
    "df = pd.read_sql_query(\"SELECT count(*) AS total_lignes FROM spotify;\", conn)\n",
    "print(df)\n"
   ]
  },
  {
   "cell_type": "code",
   "execution_count": 60,
   "metadata": {},
   "outputs": [
    {
     "name": "stdout",
     "output_type": "stream",
     "text": [
      "nombre d'albums : 292\n"
     ]
    }
   ],
   "source": [
    "import sqlite3\n",
    "import pandas as pd\n",
    "\n",
    "conn = sqlite3.connect(\"spotify.db\") \n",
    "\n",
    "df1 = pd.read_sql_query(\"SELECT count(distinct album) AS nb_albums FROM spotify;\", conn)\n",
    "print(\"nombre d'albums :\", df1.iloc[0, 0])\n"
   ]
  },
  {
   "cell_type": "code",
   "execution_count": 61,
   "metadata": {},
   "outputs": [
    {
     "name": "stdout",
     "output_type": "stream",
     "text": [
      "   total_no_counts                artist\n",
      "0                7                Clairo\n",
      "1                6  Cigarettes After Sex\n",
      "2                5         Billie Eilish\n",
      "3                4         wave to earth\n",
      "4                4     Sabrina Carpenter\n"
     ]
    }
   ],
   "source": [
    "query1 = \"\"\"\n",
    "SELECT COUNT(track_name) AS total_no_counts, artist\n",
    "FROM spotify\n",
    "GROUP BY artist\n",
    "ORDER BY total_no_counts DESC;\n",
    "\"\"\"\n",
    "df1 = pd.read_sql_query(query1, conn)\n",
    "print(df1.head())\n"
   ]
  },
  {
   "cell_type": "code",
   "execution_count": 62,
   "metadata": {},
   "outputs": [
    {
     "name": "stdout",
     "output_type": "stream",
     "text": [
      "          artist  average_popularity\n",
      "0      Lady Gaga               100.0\n",
      "1           ROSÉ                95.0\n",
      "2  Chappell Roan                95.0\n",
      "3       yung kai                92.0\n",
      "4     Lola Young                92.0\n"
     ]
    }
   ],
   "source": [
    "query2 = \"\"\"\n",
    "SELECT artist, AVG(popularity) AS average_popularity\n",
    "FROM spotify\n",
    "GROUP BY artist\n",
    "ORDER BY average_popularity DESC;\n",
    "\"\"\"\n",
    "df2 = pd.read_sql_query(query2, conn)\n",
    "print(df2.head())\n"
   ]
  },
  {
   "cell_type": "code",
   "execution_count": 63,
   "metadata": {},
   "outputs": [
    {
     "name": "stdout",
     "output_type": "stream",
     "text": [
      "                                       track_name              artist  \\\n",
      "0                                Die With A Smile           Lady Gaga   \n",
      "1                              BIRDS OF A FEATHER       Billie Eilish   \n",
      "2                                      WILDFLOWER       Billie Eilish   \n",
      "3                                Good Luck, Babe!       Chappell Roan   \n",
      "4                                            APT.                ROSÉ   \n",
      "5  One Of The Girls (with JENNIE, Lily Rose Depp)          The Weeknd   \n",
      "6                See You Again (feat. Kali Uchis)  Tyler, The Creator   \n",
      "7                                            blue            yung kai   \n",
      "8                                           Messy          Lola Young   \n",
      "9                               DENIAL IS A RIVER             Doechii   \n",
      "\n",
      "   popularity  \n",
      "0         100  \n",
      "1          99  \n",
      "2          96  \n",
      "3          95  \n",
      "4          95  \n",
      "5          93  \n",
      "6          92  \n",
      "7          92  \n",
      "8          92  \n",
      "9          92  \n"
     ]
    }
   ],
   "source": [
    "query3 = \"\"\"\n",
    "SELECT track_name, artist, popularity\n",
    "FROM spotify\n",
    "ORDER BY popularity DESC\n",
    "LIMIT 10;\n",
    "\"\"\"\n",
    "df3 = pd.read_sql_query(query3, conn)\n",
    "print(df3)\n"
   ]
  },
  {
   "cell_type": "code",
   "execution_count": 64,
   "metadata": {},
   "outputs": [
    {
     "name": "stdout",
     "output_type": "stream",
     "text": [
      "   release_year  count\n",
      "0          1959      1\n",
      "1          1964      2\n",
      "2          1965      3\n",
      "3          1973      2\n",
      "4          1976      2\n",
      "5          1979      1\n",
      "6          1981      1\n",
      "7          1983      1\n",
      "8          1986      1\n",
      "9          1987      3\n",
      "10         1988      1\n",
      "11         1989      2\n",
      "12         1991      1\n",
      "13         1992      1\n",
      "14         1993      3\n",
      "15         1994      2\n",
      "16         1996      1\n",
      "17         1997      2\n",
      "18         1999      1\n",
      "19         2000      2\n",
      "20         2001      4\n",
      "21         2002      2\n",
      "22         2004      1\n",
      "23         2005      1\n",
      "24         2006      6\n",
      "25         2007      4\n",
      "26         2008      4\n",
      "27         2009      3\n",
      "28         2010      3\n",
      "29         2011      3\n",
      "30         2012      2\n",
      "31         2013      4\n",
      "32         2014      5\n",
      "33         2015      7\n",
      "34         2016      3\n",
      "35         2017     14\n",
      "36         2018     21\n",
      "37         2019     27\n",
      "38         2020     14\n",
      "39         2021     20\n",
      "40         2022     22\n",
      "41         2023     39\n",
      "42         2024     65\n",
      "43         2025      3\n"
     ]
    }
   ],
   "source": [
    "query4 = \"\"\"\n",
    "SELECT SUBSTR(release_date, 1, 4) AS release_year, COUNT(*) AS count\n",
    "FROM spotify\n",
    "GROUP BY release_year\n",
    "ORDER BY release_year;\n",
    "\"\"\"\n",
    "df4 = pd.read_sql_query(query4, conn)\n",
    "print(df4)\n"
   ]
  },
  {
   "cell_type": "code",
   "execution_count": 65,
   "metadata": {},
   "outputs": [
    {
     "name": "stdout",
     "output_type": "stream",
     "text": [
      "   release_year  average_popularity\n",
      "0          1959           71.000000\n",
      "1          1964           69.000000\n",
      "2          1965           75.000000\n",
      "3          1973           68.000000\n",
      "4          1976           75.500000\n",
      "5          1979           85.000000\n",
      "6          1981           69.000000\n",
      "7          1983           83.000000\n",
      "8          1986           66.000000\n",
      "9          1987           66.000000\n",
      "10         1988           57.000000\n",
      "11         1989           77.000000\n",
      "12         1991           72.000000\n",
      "13         1992           64.000000\n",
      "14         1993           72.000000\n",
      "15         1994           73.500000\n",
      "16         1996           49.000000\n",
      "17         1997           81.500000\n",
      "18         1999           47.000000\n",
      "19         2000           65.000000\n",
      "20         2001           56.750000\n",
      "21         2002           57.500000\n",
      "22         2004           80.000000\n",
      "23         2005           80.000000\n",
      "24         2006           75.666667\n",
      "25         2007           78.000000\n",
      "26         2008           58.750000\n",
      "27         2009           52.666667\n",
      "28         2010           80.333333\n",
      "29         2011           77.666667\n",
      "30         2012           77.000000\n",
      "31         2013           70.250000\n",
      "32         2014           78.800000\n",
      "33         2015           68.428571\n",
      "34         2016           87.000000\n",
      "35         2017           75.428571\n",
      "36         2018           65.476190\n",
      "37         2019           68.518519\n",
      "38         2020           58.357143\n",
      "39         2021           61.450000\n",
      "40         2022           68.500000\n",
      "41         2023           67.358974\n",
      "42         2024           61.292308\n",
      "43         2025           63.666667\n"
     ]
    }
   ],
   "source": [
    "query5 = \"\"\"\n",
    "SELECT SUBSTR(release_date, 1, 4) AS release_year, AVG(popularity) AS average_popularity\n",
    "FROM spotify\n",
    "GROUP BY release_year\n",
    "ORDER BY release_year;\n",
    "\"\"\"\n",
    "df5 = pd.read_sql_query(query5, conn)\n",
    "print(df5)\n"
   ]
  },
  {
   "cell_type": "code",
   "execution_count": 66,
   "metadata": {},
   "outputs": [
    {
     "name": "stdout",
     "output_type": "stream",
     "text": [
      "                 artist_genre  total_tracks\n",
      "0                 bedroom pop            17\n",
      "1                       indie             7\n",
      "2                         r&b             6\n",
      "3                   dream pop             6\n",
      "4  art rock, alternative rock             4\n"
     ]
    }
   ],
   "source": [
    "query6 = \"\"\"\n",
    "SELECT artist_genre, COUNT(*) AS total_tracks\n",
    "FROM spotify\n",
    "WHERE artist_genre IS NOT NULL\n",
    "GROUP BY artist_genre\n",
    "ORDER BY total_tracks DESC;\n",
    "\"\"\"\n",
    "df6 = pd.read_sql_query(query6, conn)\n",
    "print(df6.head())\n"
   ]
  }
 ],
 "metadata": {
  "kernelspec": {
   "display_name": "Python 3",
   "language": "python",
   "name": "python3"
  },
  "language_info": {
   "codemirror_mode": {
    "name": "ipython",
    "version": 3
   },
   "file_extension": ".py",
   "mimetype": "text/x-python",
   "name": "python",
   "nbconvert_exporter": "python",
   "pygments_lexer": "ipython3",
   "version": "3.12.1"
  }
 },
 "nbformat": 4,
 "nbformat_minor": 2
}
