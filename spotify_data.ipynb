{
 "cells": [
  {
   "cell_type": "code",
   "execution_count": 7,
   "metadata": {},
   "outputs": [],
   "source": [
    "# 1. Import Pandas,Numpy,Seaborn,Matplotlib"
   ]
  },
  {
   "cell_type": "code",
   "execution_count": 30,
   "metadata": {},
   "outputs": [],
   "source": [
    "import numpy as np\n",
    "import pandas as pd\n",
    "import matplotlib.pyplot as plt\n",
    "import seaborn as sns\n"
   ]
  },
  {
   "cell_type": "code",
   "execution_count": 16,
   "metadata": {},
   "outputs": [],
   "source": [
    "# 2. Load Dataset"
   ]
  },
  {
   "cell_type": "code",
   "execution_count": 11,
   "metadata": {},
   "outputs": [
    {
     "data": {
      "text/html": [
       "<div>\n",
       "<style scoped>\n",
       "    .dataframe tbody tr th:only-of-type {\n",
       "        vertical-align: middle;\n",
       "    }\n",
       "\n",
       "    .dataframe tbody tr th {\n",
       "        vertical-align: top;\n",
       "    }\n",
       "\n",
       "    .dataframe thead th {\n",
       "        text-align: right;\n",
       "    }\n",
       "</style>\n",
       "<table border=\"1\" class=\"dataframe\">\n",
       "  <thead>\n",
       "    <tr style=\"text-align: right;\">\n",
       "      <th></th>\n",
       "      <th>track</th>\n",
       "      <th>artist</th>\n",
       "      <th>album</th>\n",
       "      <th>popularity</th>\n",
       "      <th>loudness</th>\n",
       "      <th>danceability</th>\n",
       "    </tr>\n",
       "  </thead>\n",
       "  <tbody>\n",
       "    <tr>\n",
       "      <th>0</th>\n",
       "      <td>See You Again (feat. Kali Uchis)</td>\n",
       "      <td>Tyler, The Creator, Kali Uchis</td>\n",
       "      <td>Flower Boy</td>\n",
       "      <td>92</td>\n",
       "      <td>7KA4W4McWYRpgf0fWsJZWB</td>\n",
       "      <td>NaN</td>\n",
       "    </tr>\n",
       "    <tr>\n",
       "      <th>1</th>\n",
       "      <td>Dark Red</td>\n",
       "      <td>Steve Lacy</td>\n",
       "      <td>Dark Red</td>\n",
       "      <td>86</td>\n",
       "      <td>3EaJDYHA0KnX88JvDhL9oa</td>\n",
       "      <td>NaN</td>\n",
       "    </tr>\n",
       "    <tr>\n",
       "      <th>2</th>\n",
       "      <td>Pink + White</td>\n",
       "      <td>Frank Ocean</td>\n",
       "      <td>Blonde</td>\n",
       "      <td>88</td>\n",
       "      <td>3xKsf9qdS1CyvXSMEid6g8</td>\n",
       "      <td>NaN</td>\n",
       "    </tr>\n",
       "    <tr>\n",
       "      <th>3</th>\n",
       "      <td>Lovers Rock</td>\n",
       "      <td>TV Girl</td>\n",
       "      <td>French Exit</td>\n",
       "      <td>88</td>\n",
       "      <td>6dBUzqjtbnIa1TwYbyw5CM</td>\n",
       "      <td>NaN</td>\n",
       "    </tr>\n",
       "    <tr>\n",
       "      <th>4</th>\n",
       "      <td>Something About You</td>\n",
       "      <td>Eyedress, Dent May</td>\n",
       "      <td>Mulholland Drive</td>\n",
       "      <td>83</td>\n",
       "      <td>6RiiSy9GzSwiyDEJDiMuKe</td>\n",
       "      <td>NaN</td>\n",
       "    </tr>\n",
       "    <tr>\n",
       "      <th>...</th>\n",
       "      <td>...</td>\n",
       "      <td>...</td>\n",
       "      <td>...</td>\n",
       "      <td>...</td>\n",
       "      <td>...</td>\n",
       "      <td>...</td>\n",
       "    </tr>\n",
       "    <tr>\n",
       "      <th>95</th>\n",
       "      <td>Show Me How</td>\n",
       "      <td>Men I Trust</td>\n",
       "      <td>Show Me How</td>\n",
       "      <td>82</td>\n",
       "      <td>75IQVo8hqI1iwVZyvkN2VT</td>\n",
       "      <td>NaN</td>\n",
       "    </tr>\n",
       "    <tr>\n",
       "      <th>96</th>\n",
       "      <td>Oncle Jazz</td>\n",
       "      <td>Men I Trust</td>\n",
       "      <td>Oncle Jazz</td>\n",
       "      <td>63</td>\n",
       "      <td>204t5SErksNRHRhU52g5JF</td>\n",
       "      <td>NaN</td>\n",
       "    </tr>\n",
       "    <tr>\n",
       "      <th>97</th>\n",
       "      <td>Sexy to Someone</td>\n",
       "      <td>Clairo</td>\n",
       "      <td>Sexy to Someone</td>\n",
       "      <td>65</td>\n",
       "      <td>2Nq4SFbvYYZa8AF7lD7CWU</td>\n",
       "      <td>NaN</td>\n",
       "    </tr>\n",
       "    <tr>\n",
       "      <th>98</th>\n",
       "      <td>Flaming Hot Cheetos</td>\n",
       "      <td>Clairo</td>\n",
       "      <td>Flaming Hot Cheetos</td>\n",
       "      <td>75</td>\n",
       "      <td>1F6IbA7di42uPc3cff8PXV</td>\n",
       "      <td>NaN</td>\n",
       "    </tr>\n",
       "    <tr>\n",
       "      <th>99</th>\n",
       "      <td>Llanto y Canto Por Juan Preciado</td>\n",
       "      <td>Manuel Polin</td>\n",
       "      <td>Llanto y Canto Por Juan Preciado</td>\n",
       "      <td>22</td>\n",
       "      <td>1eNaw207b6PjVziaFLO2EX</td>\n",
       "      <td>NaN</td>\n",
       "    </tr>\n",
       "  </tbody>\n",
       "</table>\n",
       "<p>100 rows × 6 columns</p>\n",
       "</div>"
      ],
      "text/plain": [
       "                               track                          artist  \\\n",
       "0   See You Again (feat. Kali Uchis)  Tyler, The Creator, Kali Uchis   \n",
       "1                           Dark Red                      Steve Lacy   \n",
       "2                       Pink + White                     Frank Ocean   \n",
       "3                        Lovers Rock                         TV Girl   \n",
       "4                Something About You              Eyedress, Dent May   \n",
       "..                               ...                             ...   \n",
       "95                       Show Me How                     Men I Trust   \n",
       "96                        Oncle Jazz                     Men I Trust   \n",
       "97                   Sexy to Someone                          Clairo   \n",
       "98               Flaming Hot Cheetos                          Clairo   \n",
       "99  Llanto y Canto Por Juan Preciado                    Manuel Polin   \n",
       "\n",
       "                               album  popularity                loudness  \\\n",
       "0                         Flower Boy          92  7KA4W4McWYRpgf0fWsJZWB   \n",
       "1                           Dark Red          86  3EaJDYHA0KnX88JvDhL9oa   \n",
       "2                             Blonde          88  3xKsf9qdS1CyvXSMEid6g8   \n",
       "3                        French Exit          88  6dBUzqjtbnIa1TwYbyw5CM   \n",
       "4                   Mulholland Drive          83  6RiiSy9GzSwiyDEJDiMuKe   \n",
       "..                               ...         ...                     ...   \n",
       "95                       Show Me How          82  75IQVo8hqI1iwVZyvkN2VT   \n",
       "96                        Oncle Jazz          63  204t5SErksNRHRhU52g5JF   \n",
       "97                   Sexy to Someone          65  2Nq4SFbvYYZa8AF7lD7CWU   \n",
       "98               Flaming Hot Cheetos          75  1F6IbA7di42uPc3cff8PXV   \n",
       "99  Llanto y Canto Por Juan Preciado          22  1eNaw207b6PjVziaFLO2EX   \n",
       "\n",
       "    danceability  \n",
       "0            NaN  \n",
       "1            NaN  \n",
       "2            NaN  \n",
       "3            NaN  \n",
       "4            NaN  \n",
       "..           ...  \n",
       "95           NaN  \n",
       "96           NaN  \n",
       "97           NaN  \n",
       "98           NaN  \n",
       "99           NaN  \n",
       "\n",
       "[100 rows x 6 columns]"
      ]
     },
     "execution_count": 11,
     "metadata": {},
     "output_type": "execute_result"
    }
   ],
   "source": [
    "table = pd.read_csv('/workspaces/simple-/track_info.csv')\n",
    "table"
   ]
  },
  {
   "cell_type": "code",
   "execution_count": 10,
   "metadata": {},
   "outputs": [
    {
     "data": {
      "text/html": [
       "<div>\n",
       "<style scoped>\n",
       "    .dataframe tbody tr th:only-of-type {\n",
       "        vertical-align: middle;\n",
       "    }\n",
       "\n",
       "    .dataframe tbody tr th {\n",
       "        vertical-align: top;\n",
       "    }\n",
       "\n",
       "    .dataframe thead th {\n",
       "        text-align: right;\n",
       "    }\n",
       "</style>\n",
       "<table border=\"1\" class=\"dataframe\">\n",
       "  <thead>\n",
       "    <tr style=\"text-align: right;\">\n",
       "      <th></th>\n",
       "      <th>track</th>\n",
       "      <th>artist</th>\n",
       "      <th>album</th>\n",
       "      <th>popularity</th>\n",
       "      <th>loudness</th>\n",
       "      <th>danceability</th>\n",
       "    </tr>\n",
       "  </thead>\n",
       "  <tbody>\n",
       "    <tr>\n",
       "      <th>0</th>\n",
       "      <td>See You Again (feat. Kali Uchis)</td>\n",
       "      <td>Tyler, The Creator, Kali Uchis</td>\n",
       "      <td>Flower Boy</td>\n",
       "      <td>92</td>\n",
       "      <td>7KA4W4McWYRpgf0fWsJZWB</td>\n",
       "      <td>NaN</td>\n",
       "    </tr>\n",
       "    <tr>\n",
       "      <th>1</th>\n",
       "      <td>Dark Red</td>\n",
       "      <td>Steve Lacy</td>\n",
       "      <td>Dark Red</td>\n",
       "      <td>86</td>\n",
       "      <td>3EaJDYHA0KnX88JvDhL9oa</td>\n",
       "      <td>NaN</td>\n",
       "    </tr>\n",
       "    <tr>\n",
       "      <th>2</th>\n",
       "      <td>Pink + White</td>\n",
       "      <td>Frank Ocean</td>\n",
       "      <td>Blonde</td>\n",
       "      <td>88</td>\n",
       "      <td>3xKsf9qdS1CyvXSMEid6g8</td>\n",
       "      <td>NaN</td>\n",
       "    </tr>\n",
       "    <tr>\n",
       "      <th>3</th>\n",
       "      <td>Lovers Rock</td>\n",
       "      <td>TV Girl</td>\n",
       "      <td>French Exit</td>\n",
       "      <td>88</td>\n",
       "      <td>6dBUzqjtbnIa1TwYbyw5CM</td>\n",
       "      <td>NaN</td>\n",
       "    </tr>\n",
       "    <tr>\n",
       "      <th>4</th>\n",
       "      <td>Something About You</td>\n",
       "      <td>Eyedress, Dent May</td>\n",
       "      <td>Mulholland Drive</td>\n",
       "      <td>83</td>\n",
       "      <td>6RiiSy9GzSwiyDEJDiMuKe</td>\n",
       "      <td>NaN</td>\n",
       "    </tr>\n",
       "  </tbody>\n",
       "</table>\n",
       "</div>"
      ],
      "text/plain": [
       "                              track                          artist  \\\n",
       "0  See You Again (feat. Kali Uchis)  Tyler, The Creator, Kali Uchis   \n",
       "1                          Dark Red                      Steve Lacy   \n",
       "2                      Pink + White                     Frank Ocean   \n",
       "3                       Lovers Rock                         TV Girl   \n",
       "4               Something About You              Eyedress, Dent May   \n",
       "\n",
       "              album  popularity                loudness  danceability  \n",
       "0        Flower Boy          92  7KA4W4McWYRpgf0fWsJZWB           NaN  \n",
       "1          Dark Red          86  3EaJDYHA0KnX88JvDhL9oa           NaN  \n",
       "2            Blonde          88  3xKsf9qdS1CyvXSMEid6g8           NaN  \n",
       "3       French Exit          88  6dBUzqjtbnIa1TwYbyw5CM           NaN  \n",
       "4  Mulholland Drive          83  6RiiSy9GzSwiyDEJDiMuKe           NaN  "
      ]
     },
     "execution_count": 10,
     "metadata": {},
     "output_type": "execute_result"
    }
   ],
   "source": [
    "table.head()"
   ]
  },
  {
   "cell_type": "code",
   "execution_count": 17,
   "metadata": {},
   "outputs": [],
   "source": [
    "# 3. No of rows and columns"
   ]
  },
  {
   "cell_type": "code",
   "execution_count": 11,
   "metadata": {},
   "outputs": [
    {
     "name": "stdout",
     "output_type": "stream",
     "text": [
      "Shape of the dataset: (100, 6)\n"
     ]
    }
   ],
   "source": [
    "print(\"Shape of the dataset:\",table.shape)"
   ]
  },
  {
   "cell_type": "code",
   "execution_count": null,
   "metadata": {},
   "outputs": [],
   "source": [
    "# 5. Missing values"
   ]
  },
  {
   "cell_type": "code",
   "execution_count": 13,
   "metadata": {},
   "outputs": [
    {
     "data": {
      "text/plain": [
       "track             0\n",
       "artist            0\n",
       "album             0\n",
       "popularity        0\n",
       "loudness          0\n",
       "danceability    100\n",
       "dtype: int64"
      ]
     },
     "execution_count": 13,
     "metadata": {},
     "output_type": "execute_result"
    }
   ],
   "source": [
    "table.isnull().sum()"
   ]
  },
  {
   "cell_type": "code",
   "execution_count": null,
   "metadata": {},
   "outputs": [],
   "source": [
    "# 4. Column details"
   ]
  },
  {
   "cell_type": "code",
   "execution_count": 14,
   "metadata": {},
   "outputs": [
    {
     "name": "stdout",
     "output_type": "stream",
     "text": [
      "<class 'pandas.core.frame.DataFrame'>\n",
      "RangeIndex: 100 entries, 0 to 99\n",
      "Data columns (total 6 columns):\n",
      " #   Column        Non-Null Count  Dtype  \n",
      "---  ------        --------------  -----  \n",
      " 0   track         100 non-null    object \n",
      " 1   artist        100 non-null    object \n",
      " 2   album         100 non-null    object \n",
      " 3   popularity    100 non-null    int64  \n",
      " 4   loudness      100 non-null    object \n",
      " 5   danceability  0 non-null      float64\n",
      "dtypes: float64(1), int64(1), object(4)\n",
      "memory usage: 4.8+ KB\n"
     ]
    }
   ],
   "source": [
    "table.info()"
   ]
  },
  {
   "cell_type": "code",
   "execution_count": null,
   "metadata": {},
   "outputs": [],
   "source": [
    "# 5. Statistics of the data"
   ]
  },
  {
   "cell_type": "code",
   "execution_count": 15,
   "metadata": {},
   "outputs": [
    {
     "data": {
      "text/html": [
       "<div>\n",
       "<style scoped>\n",
       "    .dataframe tbody tr th:only-of-type {\n",
       "        vertical-align: middle;\n",
       "    }\n",
       "\n",
       "    .dataframe tbody tr th {\n",
       "        vertical-align: top;\n",
       "    }\n",
       "\n",
       "    .dataframe thead th {\n",
       "        text-align: right;\n",
       "    }\n",
       "</style>\n",
       "<table border=\"1\" class=\"dataframe\">\n",
       "  <thead>\n",
       "    <tr style=\"text-align: right;\">\n",
       "      <th></th>\n",
       "      <th>count</th>\n",
       "      <th>mean</th>\n",
       "      <th>std</th>\n",
       "      <th>min</th>\n",
       "      <th>25%</th>\n",
       "      <th>50%</th>\n",
       "      <th>75%</th>\n",
       "      <th>max</th>\n",
       "    </tr>\n",
       "  </thead>\n",
       "  <tbody>\n",
       "    <tr>\n",
       "      <th>popularity</th>\n",
       "      <td>100.0</td>\n",
       "      <td>64.71</td>\n",
       "      <td>21.942669</td>\n",
       "      <td>4.0</td>\n",
       "      <td>50.0</td>\n",
       "      <td>71.5</td>\n",
       "      <td>81.0</td>\n",
       "      <td>99.0</td>\n",
       "    </tr>\n",
       "    <tr>\n",
       "      <th>danceability</th>\n",
       "      <td>0.0</td>\n",
       "      <td>NaN</td>\n",
       "      <td>NaN</td>\n",
       "      <td>NaN</td>\n",
       "      <td>NaN</td>\n",
       "      <td>NaN</td>\n",
       "      <td>NaN</td>\n",
       "      <td>NaN</td>\n",
       "    </tr>\n",
       "  </tbody>\n",
       "</table>\n",
       "</div>"
      ],
      "text/plain": [
       "              count   mean        std  min   25%   50%   75%   max\n",
       "popularity    100.0  64.71  21.942669  4.0  50.0  71.5  81.0  99.0\n",
       "danceability    0.0    NaN        NaN  NaN   NaN   NaN   NaN   NaN"
      ]
     },
     "execution_count": 15,
     "metadata": {},
     "output_type": "execute_result"
    }
   ],
   "source": [
    "table.describe().transpose()"
   ]
  },
  {
   "cell_type": "code",
   "execution_count": null,
   "metadata": {},
   "outputs": [],
   "source": [
    "# 6. Top 5 most popular artist"
   ]
  },
  {
   "cell_type": "code",
   "execution_count": 16,
   "metadata": {},
   "outputs": [
    {
     "data": {
      "text/plain": [
       "artist\n",
       "Billie Eilish    2\n",
       "Cults            2\n",
       "Doja Cat         2\n",
       "Clairo           2\n",
       "TV Girl          2\n",
       "Name: track, dtype: int64"
      ]
     },
     "execution_count": 16,
     "metadata": {},
     "output_type": "execute_result"
    }
   ],
   "source": [
    "top_five_artist = table.groupby('artist').count().sort_values(by='track',ascending=False)['track'][:5]\n",
    "top_five_artist"
   ]
  },
  {
   "cell_type": "code",
   "execution_count": 17,
   "metadata": {},
   "outputs": [
    {
     "data": {
      "image/png": "[encoded data removed]",
      "text/plain": [
       "<Figure size 640x480 with 1 Axes>"
      ]
     },
     "metadata": {},
     "output_type": "display_data"
    }
   ],
   "source": [
    "top_five_artist.plot.barh()\n",
    "plt.show()"
   ]
  },
  {
   "cell_type": "code",
   "execution_count": null,
   "metadata": {},
   "outputs": [],
   "source": [
    "# 7. Top 10 artist"
   ]
  },
  {
   "cell_type": "code",
   "execution_count": 18,
   "metadata": {},
   "outputs": [
    {
     "data": {
      "text/plain": [
       "artist\n",
       "TV Girl              2\n",
       "Cults                2\n",
       "Men I Trust          2\n",
       "Clairo               2\n",
       "club hearts          2\n",
       "Taylor Swift         2\n",
       "Doja Cat             2\n",
       "Billie Eilish        2\n",
       "Omar Apollo          2\n",
       "Foster The People    2\n",
       "Name: count, dtype: int64"
      ]
     },
     "execution_count": 18,
     "metadata": {},
     "output_type": "execute_result"
    }
   ],
   "source": [
    "counts = table['artist'].value_counts()\n",
    "counts.head(10)"
   ]
  },
  {
   "cell_type": "code",
   "execution_count": null,
   "metadata": {},
   "outputs": [],
   "source": [
    "# 8. Top 10 tracks"
   ]
  },
  {
   "cell_type": "code",
   "execution_count": 24,
   "metadata": {},
   "outputs": [
    {
     "data": {
      "text/plain": [
       "track\n",
       "See You Again (feat. Kali Uchis)    1\n",
       "Dark Red                            1\n",
       "Pink + White                        1\n",
       "Lovers Rock                         1\n",
       "Something About You                 1\n",
       "Good Looking                        1\n",
       "Not Allowed                         1\n",
       "Always Forever                      1\n",
       "we fell in love in october          1\n",
       "Romantic Homicide                   1\n",
       "Name: count, dtype: int64"
      ]
     },
     "execution_count": 24,
     "metadata": {},
     "output_type": "execute_result"
    }
   ],
   "source": [
    "counts = table['track'].value_counts()\n",
    "counts.head(10)"
   ]
  },
  {
   "cell_type": "code",
   "execution_count": null,
   "metadata": {},
   "outputs": [],
   "source": [
    "# Top track"
   ]
  },
  {
   "cell_type": "code",
   "execution_count": 20,
   "metadata": {},
   "outputs": [
    {
     "data": {
      "text/plain": [
       "track\n",
       "See You Again (feat. Kali Uchis)    1\n",
       "Name: count, dtype: int64"
      ]
     },
     "execution_count": 20,
     "metadata": {},
     "output_type": "execute_result"
    }
   ],
   "source": [
    "most_streamed_song = table['track'].value_counts()\n",
    "counts.head(1)"
   ]
  },
  {
   "cell_type": "code",
   "execution_count": null,
   "metadata": {},
   "outputs": [],
   "source": [
    "# top 10 albums"
   ]
  },
  {
   "cell_type": "code",
   "execution_count": 12,
   "metadata": {},
   "outputs": [
    {
     "data": {
      "text/plain": [
       "album\n",
       "HIT ME HARD AND SOFT                                 2\n",
       "Dark Red                                             1\n",
       "Flower Boy                                           1\n",
       "French Exit                                          1\n",
       "Mulholland Drive                                     1\n",
       "Good Looking                                         1\n",
       "Who Really Cares                                     1\n",
       "Static                                               1\n",
       "we fell in love in october / October Passed Me By    1\n",
       "Romantic Homicide                                    1\n",
       "Name: count, dtype: int64"
      ]
     },
     "execution_count": 12,
     "metadata": {},
     "output_type": "execute_result"
    }
   ],
   "source": [
    "counts = table['album'].value_counts()\n",
    "counts.head(10)"
   ]
  },
  {
   "cell_type": "code",
   "execution_count": 28,
   "metadata": {},
   "outputs": [
    {
     "data": {
      "text/html": [
       "<div>\n",
       "<style scoped>\n",
       "    .dataframe tbody tr th:only-of-type {\n",
       "        vertical-align: middle;\n",
       "    }\n",
       "\n",
       "    .dataframe tbody tr th {\n",
       "        vertical-align: top;\n",
       "    }\n",
       "\n",
       "    .dataframe thead th {\n",
       "        text-align: right;\n",
       "    }\n",
       "</style>\n",
       "<table border=\"1\" class=\"dataframe\">\n",
       "  <thead>\n",
       "    <tr style=\"text-align: right;\">\n",
       "      <th></th>\n",
       "      <th>loudness</th>\n",
       "      <th>track</th>\n",
       "    </tr>\n",
       "  </thead>\n",
       "  <tbody>\n",
       "    <tr>\n",
       "      <th>78</th>\n",
       "      <td>07MDkzWARZaLEdKxo6yArG</td>\n",
       "      <td>Meet Me At Our Spot</td>\n",
       "    </tr>\n",
       "    <tr>\n",
       "      <th>25</th>\n",
       "      <td>0O45fw2L5vsWpdsOdXwNAR</td>\n",
       "      <td>SexyBack (feat. Timbaland)</td>\n",
       "    </tr>\n",
       "    <tr>\n",
       "      <th>85</th>\n",
       "      <td>0P5vPj2sxCaRTFYomyIBls</td>\n",
       "      <td>The Drive In</td>\n",
       "    </tr>\n",
       "    <tr>\n",
       "      <th>10</th>\n",
       "      <td>0SpkyS1Q4MD8GaVcP5YjT4</td>\n",
       "      <td>Sunsetz</td>\n",
       "    </tr>\n",
       "    <tr>\n",
       "      <th>51</th>\n",
       "      <td>0SzvmWfOhoxZVGrmvb56YL</td>\n",
       "      <td>Baby I'm Yours</td>\n",
       "    </tr>\n",
       "  </tbody>\n",
       "</table>\n",
       "</div>"
      ],
      "text/plain": [
       "                  loudness                       track\n",
       "78  07MDkzWARZaLEdKxo6yArG         Meet Me At Our Spot\n",
       "25  0O45fw2L5vsWpdsOdXwNAR  SexyBack (feat. Timbaland)\n",
       "85  0P5vPj2sxCaRTFYomyIBls                The Drive In\n",
       "10  0SpkyS1Q4MD8GaVcP5YjT4                     Sunsetz\n",
       "51  0SzvmWfOhoxZVGrmvb56YL              Baby I'm Yours"
      ]
     },
     "execution_count": 28,
     "metadata": {},
     "output_type": "execute_result"
    }
   ],
   "source": [
    "top_five_loudest = table[['loudness','track']].sort_values(by='loudness',ascending=True)[:5]\n",
    "top_five_loudest\n"
   ]
  },
  {
   "cell_type": "code",
   "execution_count": 32,
   "metadata": {},
   "outputs": [
    {
     "data": {
      "text/plain": [
       "Text(0.5, 1.0, 'Top 5 Loudest Track')"
      ]
     },
     "execution_count": 32,
     "metadata": {},
     "output_type": "execute_result"
    },
    {
     "data": {
      "image/png": "[encoded data removed]",
      "text/plain": [
       "<Figure size 640x480 with 1 Axes>"
      ]
     },
     "metadata": {},
     "output_type": "display_data"
    }
   ],
   "source": [
    "sns.barplot(x='loudness',y='track',data=top_five_loudest)\n",
    "plt.title('Top 5 Loudest Track')"
   ]
  },
  {
   "cell_type": "code",
   "execution_count": 34,
   "metadata": {},
   "outputs": [
    {
     "data": {
      "text/html": [
       "<div>\n",
       "<style scoped>\n",
       "    .dataframe tbody tr th:only-of-type {\n",
       "        vertical-align: middle;\n",
       "    }\n",
       "\n",
       "    .dataframe tbody tr th {\n",
       "        vertical-align: top;\n",
       "    }\n",
       "\n",
       "    .dataframe thead th {\n",
       "        text-align: right;\n",
       "    }\n",
       "</style>\n",
       "<table border=\"1\" class=\"dataframe\">\n",
       "  <thead>\n",
       "    <tr style=\"text-align: right;\">\n",
       "      <th></th>\n",
       "      <th>artist</th>\n",
       "      <th>popularity</th>\n",
       "      <th>track</th>\n",
       "    </tr>\n",
       "  </thead>\n",
       "  <tbody>\n",
       "    <tr>\n",
       "      <th>70</th>\n",
       "      <td>Billie Eilish</td>\n",
       "      <td>99</td>\n",
       "      <td>BIRDS OF A FEATHER</td>\n",
       "    </tr>\n",
       "    <tr>\n",
       "      <th>0</th>\n",
       "      <td>Tyler, The Creator, Kali Uchis</td>\n",
       "      <td>92</td>\n",
       "      <td>See You Again (feat. Kali Uchis)</td>\n",
       "    </tr>\n",
       "    <tr>\n",
       "      <th>45</th>\n",
       "      <td>Radiohead</td>\n",
       "      <td>89</td>\n",
       "      <td>Creep</td>\n",
       "    </tr>\n",
       "    <tr>\n",
       "      <th>2</th>\n",
       "      <td>Frank Ocean</td>\n",
       "      <td>88</td>\n",
       "      <td>Pink + White</td>\n",
       "    </tr>\n",
       "    <tr>\n",
       "      <th>3</th>\n",
       "      <td>TV Girl</td>\n",
       "      <td>88</td>\n",
       "      <td>Lovers Rock</td>\n",
       "    </tr>\n",
       "    <tr>\n",
       "      <th>21</th>\n",
       "      <td>The Walters</td>\n",
       "      <td>88</td>\n",
       "      <td>I Love You So</td>\n",
       "    </tr>\n",
       "    <tr>\n",
       "      <th>1</th>\n",
       "      <td>Steve Lacy</td>\n",
       "      <td>86</td>\n",
       "      <td>Dark Red</td>\n",
       "    </tr>\n",
       "  </tbody>\n",
       "</table>\n",
       "</div>"
      ],
      "text/plain": [
       "                            artist  popularity  \\\n",
       "70                   Billie Eilish          99   \n",
       "0   Tyler, The Creator, Kali Uchis          92   \n",
       "45                       Radiohead          89   \n",
       "2                      Frank Ocean          88   \n",
       "3                          TV Girl          88   \n",
       "21                     The Walters          88   \n",
       "1                       Steve Lacy          86   \n",
       "\n",
       "                               track  \n",
       "70                BIRDS OF A FEATHER  \n",
       "0   See You Again (feat. Kali Uchis)  \n",
       "45                             Creep  \n",
       "2                       Pink + White  \n",
       "3                        Lovers Rock  \n",
       "21                     I Love You So  \n",
       "1                           Dark Red  "
      ]
     },
     "execution_count": 34,
     "metadata": {},
     "output_type": "execute_result"
    }
   ],
   "source": [
    "top_artist_popularity = table[['artist','popularity','track']].sort_values(by='popularity', ascending = False)[:7]\n",
    "top_artist_popularity"
   ]
  }
 ],
 "metadata": {
  "kernelspec": {
   "display_name": "Python 3",
   "language": "python",
   "name": "python3"
  },
  "language_info": {
   "codemirror_mode": {
    "name": "ipython",
    "version": 3
   },
   "file_extension": ".py",
   "mimetype": "text/x-python",
   "name": "python",
   "nbconvert_exporter": "python",
   "pygments_lexer": "ipython3",
   "version": "3.12.1"
  }
 },
 "nbformat": 4,
 "nbformat_minor": 2
}
